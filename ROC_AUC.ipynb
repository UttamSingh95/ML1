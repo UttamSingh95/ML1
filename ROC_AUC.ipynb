{
 "cells": [
  {
   "cell_type": "code",
   "execution_count": 1,
   "metadata": {},
   "outputs": [
    {
     "name": "stderr",
     "output_type": "stream",
     "text": [
      "/Users/shivank/opt/anaconda3/lib/python3.9/site-packages/sklearn/linear_model/_logistic.py:814: ConvergenceWarning: lbfgs failed to converge (status=1):\n",
      "STOP: TOTAL NO. of ITERATIONS REACHED LIMIT.\n",
      "\n",
      "Increase the number of iterations (max_iter) or scale the data as shown in:\n",
      "    https://scikit-learn.org/stable/modules/preprocessing.html\n",
      "Please also refer to the documentation for alternative solver options:\n",
      "    https://scikit-learn.org/stable/modules/linear_model.html#logistic-regression\n",
      "  n_iter_i = _check_optimize_result(\n"
     ]
    }
   ],
   "source": [
    "from pandas import read_csv\n",
    "from sklearn.model_selection import train_test_split\n",
    "from sklearn.linear_model import LogisticRegression\n",
    "import numpy as np\n",
    "\n",
    "import pylab as pl\n",
    "from sklearn import svm\n",
    "from sklearn.utils import shuffle\n",
    "from sklearn.metrics import roc_curve, auc\n",
    "random_state = np.random.RandomState(0)\n",
    "\n",
    "\n",
    "\n",
    "filename = 'pima-indians-diabetes.csv'\n",
    "names = ['preg', 'plas', 'pres', 'skin', 'test', 'mass', 'pedi', 'age', 'class']\n",
    "dataframe = read_csv(filename, header = 1, names=names)\n",
    "\n",
    "array = dataframe.values\n",
    "X = array[:,0:8]\n",
    "Y = array[:,8]\n",
    "\n",
    "X_train, X_test, y_train, y_test = train_test_split(X, Y, test_size=0.50, random_state=1)\n",
    "classifier1 = LogisticRegression()\n",
    "classifier2 = svm.SVC(kernel='linear', probability=True)\n",
    "probas1_ = classifier1.fit(X_train, y_train).predict_proba(X_test)\n",
    "probas2_ = classifier2.fit(X_train, y_train).predict_proba(X_test)"
   ]
  },
  {
   "cell_type": "code",
   "execution_count": 2,
   "metadata": {},
   "outputs": [
    {
     "name": "stdout",
     "output_type": "stream",
     "text": [
      "Area under the ROC curve : 0.825029\n"
     ]
    }
   ],
   "source": [
    "# Compute ROC curve and area the curve for logistic\n",
    "fpr1, tpr1, thresholds1 = roc_curve(y_test, probas1_[:, 1])\n",
    "roc_auc1 = auc(fpr1, tpr1)\n",
    "print(\"Area under the ROC curve : %f\" % roc_auc1)"
   ]
  },
  {
   "cell_type": "code",
   "execution_count": 3,
   "metadata": {},
   "outputs": [
    {
     "name": "stdout",
     "output_type": "stream",
     "text": [
      "Area under the ROC curve : 0.832070\n"
     ]
    }
   ],
   "source": [
    "# Compute ROC curve and area the curve\n",
    "fpr2, tpr2, thresholds2 = roc_curve(y_test, probas2_[:, 1])\n",
    "roc_auc2 = auc(fpr2, tpr2)\n",
    "print(\"Area under the ROC curve : %f\" % roc_auc2)"
   ]
  },
  {
   "cell_type": "code",
   "execution_count": 4,
   "metadata": {},
   "outputs": [
    {
     "data": {
      "image/png": "[encoded data removed]",
      "text/plain": [
       "<Figure size 432x288 with 1 Axes>"
      ]
     },
     "metadata": {
      "needs_background": "light"
     },
     "output_type": "display_data"
    }
   ],
   "source": [
    "# Plot the ROC\n",
    "\n",
    "# Plot ROC curve\n",
    "pl.clf()\n",
    "pl.plot(fpr1, tpr1, label='ROC curve for logistic (area = %0.2f)' % roc_auc1)\n",
    "pl.plot(fpr2, tpr2, label='ROC curve for SVC (area = %0.2f)' % roc_auc2)\n",
    "pl.plot([0, 1], [0, 1], 'k--')\n",
    "pl.xlim([0.0, 1.0])\n",
    "pl.ylim([0.0, 1.0])\n",
    "pl.xlabel('False Positive Rate')\n",
    "pl.ylabel('True Positive Rate')\n",
    "pl.title('Receiverrating characteristic example')\n",
    "pl.legend(loc=\"lower right\")\n",
    "pl.show()"
   ]
  },
  {
   "cell_type": "code",
   "execution_count": 5,
   "metadata": {},
   "outputs": [
    {
     "name": "stdout",
     "output_type": "stream",
     "text": [
      "        fpr1      tpr1    1-fpr1       tf1  thresholds1\n",
      "67  0.263158  0.745763  0.736842  0.008921     0.365312\n",
      "        fpr2      tpr2    1-fpr2       tf2  thresholds2\n",
      "54  0.233083  0.762712  0.766917 -0.004205     0.364451\n"
     ]
    }
   ],
   "source": [
    "import pandas as pd\n",
    "\n",
    "i = np.arange(len(tpr1)) # index for df\n",
    "roc1 = pd.DataFrame({'fpr1' : pd.Series(fpr1, index=i),'tpr1' : pd.Series(tpr1, index = i), '1-fpr1' : pd.Series(1-fpr1, index = i), 'tf1' : pd.Series(tpr1 - (1-fpr1), index = i), 'thresholds1' : pd.Series(thresholds1, index = i)})\n",
    "print(roc1.loc[(roc1.tf1-0).abs().argsort()[:1]])\n",
    "\n",
    "i = np.arange(len(tpr2)) # index for df\n",
    "roc2 = pd.DataFrame({'fpr2' : pd.Series(fpr2, index=i),'tpr2' : pd.Series(tpr2, index = i), '1-fpr2' : pd.Series(1-fpr2, index = i), 'tf2' : pd.Series(tpr2 - (1-fpr2), index = i), 'thresholds2' : pd.Series(thresholds2, index = i)})\n",
    "print(roc2.loc[(roc2.tf2-0).abs().argsort()[:1]])"
   ]
  },
  {
   "cell_type": "code",
   "execution_count": 6,
   "metadata": {},
   "outputs": [
    {
     "data": {
      "text/html": [
       "<div>\n",
       "<style scoped>\n",
       "    .dataframe tbody tr th:only-of-type {\n",
       "        vertical-align: middle;\n",
       "    }\n",
       "\n",
       "    .dataframe tbody tr th {\n",
       "        vertical-align: top;\n",
       "    }\n",
       "\n",
       "    .dataframe thead th {\n",
       "        text-align: right;\n",
       "    }\n",
       "</style>\n",
       "<table border=\"1\" class=\"dataframe\">\n",
       "  <thead>\n",
       "    <tr style=\"text-align: right;\">\n",
       "      <th></th>\n",
       "      <th>fpr1</th>\n",
       "      <th>tpr1</th>\n",
       "      <th>1-fpr1</th>\n",
       "      <th>tf1</th>\n",
       "      <th>thresholds1</th>\n",
       "    </tr>\n",
       "  </thead>\n",
       "  <tbody>\n",
       "    <tr>\n",
       "      <th>0</th>\n",
       "      <td>0.000000</td>\n",
       "      <td>0.000000</td>\n",
       "      <td>1.000000</td>\n",
       "      <td>-1.000000</td>\n",
       "      <td>1.980245</td>\n",
       "    </tr>\n",
       "    <tr>\n",
       "      <th>1</th>\n",
       "      <td>0.000000</td>\n",
       "      <td>0.008475</td>\n",
       "      <td>1.000000</td>\n",
       "      <td>-0.991525</td>\n",
       "      <td>0.980245</td>\n",
       "    </tr>\n",
       "    <tr>\n",
       "      <th>2</th>\n",
       "      <td>0.000000</td>\n",
       "      <td>0.059322</td>\n",
       "      <td>1.000000</td>\n",
       "      <td>-0.940678</td>\n",
       "      <td>0.940545</td>\n",
       "    </tr>\n",
       "    <tr>\n",
       "      <th>3</th>\n",
       "      <td>0.007519</td>\n",
       "      <td>0.059322</td>\n",
       "      <td>0.992481</td>\n",
       "      <td>-0.933159</td>\n",
       "      <td>0.926602</td>\n",
       "    </tr>\n",
       "    <tr>\n",
       "      <th>4</th>\n",
       "      <td>0.007519</td>\n",
       "      <td>0.186441</td>\n",
       "      <td>0.992481</td>\n",
       "      <td>-0.806041</td>\n",
       "      <td>0.849247</td>\n",
       "    </tr>\n",
       "    <tr>\n",
       "      <th>...</th>\n",
       "      <td>...</td>\n",
       "      <td>...</td>\n",
       "      <td>...</td>\n",
       "      <td>...</td>\n",
       "      <td>...</td>\n",
       "    </tr>\n",
       "    <tr>\n",
       "      <th>66</th>\n",
       "      <td>0.214286</td>\n",
       "      <td>0.745763</td>\n",
       "      <td>0.785714</td>\n",
       "      <td>-0.039952</td>\n",
       "      <td>0.397287</td>\n",
       "    </tr>\n",
       "    <tr>\n",
       "      <th>67</th>\n",
       "      <td>0.263158</td>\n",
       "      <td>0.745763</td>\n",
       "      <td>0.736842</td>\n",
       "      <td>0.008921</td>\n",
       "      <td>0.365312</td>\n",
       "    </tr>\n",
       "    <tr>\n",
       "      <th>68</th>\n",
       "      <td>0.263158</td>\n",
       "      <td>0.762712</td>\n",
       "      <td>0.736842</td>\n",
       "      <td>0.025870</td>\n",
       "      <td>0.364420</td>\n",
       "    </tr>\n",
       "    <tr>\n",
       "      <th>69</th>\n",
       "      <td>0.266917</td>\n",
       "      <td>0.762712</td>\n",
       "      <td>0.733083</td>\n",
       "      <td>0.029629</td>\n",
       "      <td>0.353362</td>\n",
       "    </tr>\n",
       "    <tr>\n",
       "      <th>70</th>\n",
       "      <td>0.266917</td>\n",
       "      <td>0.771186</td>\n",
       "      <td>0.733083</td>\n",
       "      <td>0.038104</td>\n",
       "      <td>0.352433</td>\n",
       "    </tr>\n",
       "  </tbody>\n",
       "</table>\n",
       "<p>71 rows × 5 columns</p>\n",
       "</div>"
      ],
      "text/plain": [
       "        fpr1      tpr1    1-fpr1       tf1  thresholds1\n",
       "0   0.000000  0.000000  1.000000 -1.000000     1.980245\n",
       "1   0.000000  0.008475  1.000000 -0.991525     0.980245\n",
       "2   0.000000  0.059322  1.000000 -0.940678     0.940545\n",
       "3   0.007519  0.059322  0.992481 -0.933159     0.926602\n",
       "4   0.007519  0.186441  0.992481 -0.806041     0.849247\n",
       "..       ...       ...       ...       ...          ...\n",
       "66  0.214286  0.745763  0.785714 -0.039952     0.397287\n",
       "67  0.263158  0.745763  0.736842  0.008921     0.365312\n",
       "68  0.263158  0.762712  0.736842  0.025870     0.364420\n",
       "69  0.266917  0.762712  0.733083  0.029629     0.353362\n",
       "70  0.266917  0.771186  0.733083  0.038104     0.352433\n",
       "\n",
       "[71 rows x 5 columns]"
      ]
     },
     "execution_count": 6,
     "metadata": {},
     "output_type": "execute_result"
    }
   ],
   "source": [
    "roc1.head(71)"
   ]
  },
  {
   "cell_type": "code",
   "execution_count": 7,
   "metadata": {},
   "outputs": [
    {
     "data": {
      "text/html": [
       "<div>\n",
       "<style scoped>\n",
       "    .dataframe tbody tr th:only-of-type {\n",
       "        vertical-align: middle;\n",
       "    }\n",
       "\n",
       "    .dataframe tbody tr th {\n",
       "        vertical-align: top;\n",
       "    }\n",
       "\n",
       "    .dataframe thead th {\n",
       "        text-align: right;\n",
       "    }\n",
       "</style>\n",
       "<table border=\"1\" class=\"dataframe\">\n",
       "  <thead>\n",
       "    <tr style=\"text-align: right;\">\n",
       "      <th></th>\n",
       "      <th>fpr2</th>\n",
       "      <th>tpr2</th>\n",
       "      <th>1-fpr2</th>\n",
       "      <th>tf2</th>\n",
       "      <th>thresholds2</th>\n",
       "    </tr>\n",
       "  </thead>\n",
       "  <tbody>\n",
       "    <tr>\n",
       "      <th>0</th>\n",
       "      <td>0.000000</td>\n",
       "      <td>0.000000</td>\n",
       "      <td>1.000000</td>\n",
       "      <td>-1.000000</td>\n",
       "      <td>1.945057</td>\n",
       "    </tr>\n",
       "    <tr>\n",
       "      <th>1</th>\n",
       "      <td>0.000000</td>\n",
       "      <td>0.008475</td>\n",
       "      <td>1.000000</td>\n",
       "      <td>-0.991525</td>\n",
       "      <td>0.945057</td>\n",
       "    </tr>\n",
       "    <tr>\n",
       "      <th>2</th>\n",
       "      <td>0.000000</td>\n",
       "      <td>0.042373</td>\n",
       "      <td>1.000000</td>\n",
       "      <td>-0.957627</td>\n",
       "      <td>0.897431</td>\n",
       "    </tr>\n",
       "    <tr>\n",
       "      <th>3</th>\n",
       "      <td>0.003759</td>\n",
       "      <td>0.042373</td>\n",
       "      <td>0.996241</td>\n",
       "      <td>-0.953868</td>\n",
       "      <td>0.884486</td>\n",
       "    </tr>\n",
       "    <tr>\n",
       "      <th>4</th>\n",
       "      <td>0.003759</td>\n",
       "      <td>0.093220</td>\n",
       "      <td>0.996241</td>\n",
       "      <td>-0.903020</td>\n",
       "      <td>0.846888</td>\n",
       "    </tr>\n",
       "    <tr>\n",
       "      <th>...</th>\n",
       "      <td>...</td>\n",
       "      <td>...</td>\n",
       "      <td>...</td>\n",
       "      <td>...</td>\n",
       "      <td>...</td>\n",
       "    </tr>\n",
       "    <tr>\n",
       "      <th>66</th>\n",
       "      <td>0.315789</td>\n",
       "      <td>0.813559</td>\n",
       "      <td>0.684211</td>\n",
       "      <td>0.129349</td>\n",
       "      <td>0.328928</td>\n",
       "    </tr>\n",
       "    <tr>\n",
       "      <th>67</th>\n",
       "      <td>0.319549</td>\n",
       "      <td>0.813559</td>\n",
       "      <td>0.680451</td>\n",
       "      <td>0.133108</td>\n",
       "      <td>0.320371</td>\n",
       "    </tr>\n",
       "    <tr>\n",
       "      <th>68</th>\n",
       "      <td>0.319549</td>\n",
       "      <td>0.822034</td>\n",
       "      <td>0.680451</td>\n",
       "      <td>0.141583</td>\n",
       "      <td>0.318993</td>\n",
       "    </tr>\n",
       "    <tr>\n",
       "      <th>69</th>\n",
       "      <td>0.330827</td>\n",
       "      <td>0.822034</td>\n",
       "      <td>0.669173</td>\n",
       "      <td>0.152861</td>\n",
       "      <td>0.317474</td>\n",
       "    </tr>\n",
       "    <tr>\n",
       "      <th>70</th>\n",
       "      <td>0.330827</td>\n",
       "      <td>0.830508</td>\n",
       "      <td>0.669173</td>\n",
       "      <td>0.161336</td>\n",
       "      <td>0.316404</td>\n",
       "    </tr>\n",
       "  </tbody>\n",
       "</table>\n",
       "<p>71 rows × 5 columns</p>\n",
       "</div>"
      ],
      "text/plain": [
       "        fpr2      tpr2    1-fpr2       tf2  thresholds2\n",
       "0   0.000000  0.000000  1.000000 -1.000000     1.945057\n",
       "1   0.000000  0.008475  1.000000 -0.991525     0.945057\n",
       "2   0.000000  0.042373  1.000000 -0.957627     0.897431\n",
       "3   0.003759  0.042373  0.996241 -0.953868     0.884486\n",
       "4   0.003759  0.093220  0.996241 -0.903020     0.846888\n",
       "..       ...       ...       ...       ...          ...\n",
       "66  0.315789  0.813559  0.684211  0.129349     0.328928\n",
       "67  0.319549  0.813559  0.680451  0.133108     0.320371\n",
       "68  0.319549  0.822034  0.680451  0.141583     0.318993\n",
       "69  0.330827  0.822034  0.669173  0.152861     0.317474\n",
       "70  0.330827  0.830508  0.669173  0.161336     0.316404\n",
       "\n",
       "[71 rows x 5 columns]"
      ]
     },
     "execution_count": 7,
     "metadata": {},
     "output_type": "execute_result"
    }
   ],
   "source": [
    "roc2.head(71)"
   ]
  },
  {
   "cell_type": "code",
   "execution_count": null,
   "metadata": {},
   "outputs": [],
   "source": []
  },
  {
   "cell_type": "code",
   "execution_count": null,
   "metadata": {},
   "outputs": [],
   "source": []
  },
  {
   "cell_type": "code",
   "execution_count": null,
   "metadata": {},
   "outputs": [],
   "source": []
  },
  {
   "cell_type": "code",
   "execution_count": null,
   "metadata": {},
   "outputs": [],
   "source": []
  }
 ],
 "metadata": {
  "kernelspec": {
   "display_name": "Python 3 (ipykernel)",
   "language": "python",
   "name": "python3"
  },
  "language_info": {
   "codemirror_mode": {
    "name": "ipython",
    "version": 3
   },
   "file_extension": ".py",
   "mimetype": "text/x-python",
   "name": "python",
   "nbconvert_exporter": "python",
   "pygments_lexer": "ipython3",
   "version": "3.9.7"
  }
 },
 "nbformat": 4,
 "nbformat_minor": 2
}
